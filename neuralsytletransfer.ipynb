{
  "nbformat": 4,
  "nbformat_minor": 0,
  "metadata": {
    "colab": {
      "provenance": [],
      "authorship_tag": "ABX9TyNAs+sF2IJCgXst/7s69ICU",
      "include_colab_link": true
    },
    "kernelspec": {
      "name": "python3",
      "display_name": "Python 3"
    },
    "language_info": {
      "name": "python"
    }
  },
  "cells": [
    {
      "cell_type": "markdown",
      "metadata": {
        "id": "view-in-github",
        "colab_type": "text"
      },
      "source": [
        "<a href=\"https://colab.research.google.com/github/Ayikanying-ux/Neural-style-transfer/blob/main/neuralsytletransfer.ipynb\" target=\"_parent\"><img src=\"https://colab.research.google.com/assets/colab-badge.svg\" alt=\"Open In Colab\"/></a>"
      ]
    },
    {
      "cell_type": "markdown",
      "source": [
        "## Introduction\n",
        "Style tranfer consists in generating an image with the same \"content\" as a base image, but with the \"style of a different picture (typically artistic). This is achieved through the optimization of a loss function that has 3 components: \"style loss\", \"content loss\", and \"total variation loss\":\n",
        "\n",
        "\n",
        "*   The total variation loss imposes local spatial continuity between the pixels of the combination image, giving it visual coherence.\n",
        "*   The style loss is where the deep learning keeps in -that one is defined using a deep convolutional neural network. Precisely, it consists in a sum of L2 distances between the Gram matrices of the representations of the base image and the style reference images, extracted from different layers of a convnet(trained on ImageNet). The general idea is to capture color/texture information at different spatial scales (fairly large scales -defined by the depth of the layer considered).\n",
        "*  The content loss is a L2 distance between the features of the base image (extracted from a deep layer) and the features of the combination image, keeping the generated image close enough to the original one.\n",
        "\n"
      ],
      "metadata": {
        "id": "Tq07jiYC8vC0"
      }
    },
    {
      "cell_type": "code",
      "execution_count": null,
      "metadata": {
        "id": "gPYW5NP48prU"
      },
      "outputs": [],
      "source": []
    }
  ]
}